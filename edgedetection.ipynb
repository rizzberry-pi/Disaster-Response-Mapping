{
 "cells": [
  {
   "cell_type": "code",
   "execution_count": 3,
   "metadata": {},
   "outputs": [],
   "source": [
    "import cv2\n",
    "import numpy as np"
   ]
  },
  {
   "cell_type": "code",
   "execution_count": 4,
   "metadata": {},
   "outputs": [],
   "source": [
    "import os"
   ]
  },
  {
   "cell_type": "code",
   "execution_count": 18,
   "metadata": {},
   "outputs": [
    {
     "ename": "FileNotFoundError",
     "evalue": "[WinError 3] The system cannot find the path specified: 'rizzberry-pi/Road-Detection/image_data'",
     "output_type": "error",
     "traceback": [
      "\u001b[1;31m---------------------------------------------------------------------------\u001b[0m",
      "\u001b[1;31mFileNotFoundError\u001b[0m                         Traceback (most recent call last)",
      "\u001b[1;32mrizzberry-pi\\Road-Detection\\edgedetection.ipynb Cell 3\u001b[0m line \u001b[0;36m2\n\u001b[0;32m      <a href='vscode-notebook-cell://github/rizzberry-pi/Road-Detection/edgedetection.ipynb#W6sdnNjb2RlLXZmcw%3D%3D?line=0'>1</a>\u001b[0m \u001b[39mif\u001b[39;00m \u001b[39m__name__\u001b[39m \u001b[39m==\u001b[39m \u001b[39m'\u001b[39m\u001b[39m__main__\u001b[39m\u001b[39m'\u001b[39m:\n\u001b[1;32m----> <a href='vscode-notebook-cell://github/rizzberry-pi/Road-Detection/edgedetection.ipynb#W6sdnNjb2RlLXZmcw%3D%3D?line=1'>2</a>\u001b[0m     \u001b[39mfor\u001b[39;00m n, image_file \u001b[39min\u001b[39;00m \u001b[39menumerate\u001b[39m(os\u001b[39m.\u001b[39;49mscandir(\u001b[39m'\u001b[39;49m\u001b[39mrizzberry-pi/Road-Detection/image_data\u001b[39;49m\u001b[39m'\u001b[39;49m)):\n\u001b[0;32m      <a href='vscode-notebook-cell://github/rizzberry-pi/Road-Detection/edgedetection.ipynb#W6sdnNjb2RlLXZmcw%3D%3D?line=2'>3</a>\u001b[0m         fig, ax \u001b[39m=\u001b[39m plt\u001b[39m.\u001b[39msubplots(\u001b[39m1\u001b[39m)\n\u001b[0;32m      <a href='vscode-notebook-cell://github/rizzberry-pi/Road-Detection/edgedetection.ipynb#W6sdnNjb2RlLXZmcw%3D%3D?line=3'>4</a>\u001b[0m         image \u001b[39m=\u001b[39m cv2\u001b[39m.\u001b[39mimread(\u001b[39m'\u001b[39m\u001b[39mrizzberry-pi/Road-Detection/image_data/29.png\u001b[39m\u001b[39m'\u001b[39m)\n",
      "\u001b[1;31mFileNotFoundError\u001b[0m: [WinError 3] The system cannot find the path specified: 'rizzberry-pi/Road-Detection/image_data'"
     ]
    }
   ],
   "source": [
    "if __name__ == '__main__':\n",
    "    for n, image_file in enumerate(os.scandir('rizzberry-pi/Road-Detection/image_data')):\n",
    "        fig, ax = plt.subplots(1)\n",
    "        image = cv2.imread('rizzberry-pi/Road-Detection/image_data/29.png')\n",
    "        if image:\n",
    "            image = cv2.cvtColor(image, cv2.COLOR_BGR2RGB)\n",
    "        else:\n",
    "            print(\"Unable to load image at path {}\".format(image_file))"
   ]
  },
  {
   "cell_type": "code",
   "execution_count": 6,
   "metadata": {},
   "outputs": [],
   "source": [
    "# os.path.exists(\"rizzberry-pi/Road-Detection/29.png\")\n",
    "satellite_image = cv2.imread(r\"C:\\Users\\enxin\\OneDrive\\Documents\\CS\\Check-Your-Sources\\299.png\")\n",
    "\n"
   ]
  },
  {
   "cell_type": "code",
   "execution_count": 11,
   "metadata": {},
   "outputs": [],
   "source": [
    "gray = cv2.cvtColor(satellite_image, cv2.COLOR_BGR2GRAY)\n"
   ]
  },
  {
   "cell_type": "code",
   "execution_count": 12,
   "metadata": {},
   "outputs": [],
   "source": [
    "gray_blur = cv2.GaussianBlur(gray, (7,7), 0)\n",
    "\n",
    "edges = cv2.Canny(gray_blur, 50, 150)"
   ]
  },
  {
   "cell_type": "code",
   "execution_count": 13,
   "metadata": {},
   "outputs": [],
   "source": [
    "_, thresh = cv2.threshold(edges, 50, 150, cv2.THRESH_BINARY)"
   ]
  },
  {
   "cell_type": "code",
   "execution_count": 14,
   "metadata": {},
   "outputs": [],
   "source": [
    "kernel = cv2.getStructuringElement(cv2.MORPH_ELLIPSE, (7,7))\n",
    "closed = cv2.morphologyEx(thresh, cv2.MORPH_CLOSE, kernel)"
   ]
  },
  {
   "cell_type": "code",
   "execution_count": 22,
   "metadata": {},
   "outputs": [],
   "source": [
    "import skimage"
   ]
  },
  {
   "cell_type": "code",
   "execution_count": 23,
   "metadata": {},
   "outputs": [],
   "source": [
    "from skimage.morphology import skeletonize"
   ]
  },
  {
   "cell_type": "code",
   "execution_count": 24,
   "metadata": {},
   "outputs": [],
   "source": [
    "skeleton = cv2.threshold(thresh, 0, 1, cv2.THRESH_BINARY)[1]\n",
    "skeleton = (255*skeletonize(skeleton)).astype(np.uint8)"
   ]
  },
  {
   "cell_type": "code",
   "execution_count": 26,
   "metadata": {},
   "outputs": [
    {
     "ename": "AttributeError",
     "evalue": "module 'cv2' has no attribute 'destoyAllWindows'",
     "output_type": "error",
     "traceback": [
      "\u001b[1;31m---------------------------------------------------------------------------\u001b[0m",
      "\u001b[1;31mAttributeError\u001b[0m                            Traceback (most recent call last)",
      "\u001b[1;32mrizzberry-pi\\Road-Detection\\edgedetection.ipynb Cell 12\u001b[0m line \u001b[0;36m5\n\u001b[0;32m      <a href='vscode-notebook-cell://github/rizzberry-pi/Road-Detection/edgedetection.ipynb#X22sdnNjb2RlLXZmcw%3D%3D?line=2'>3</a>\u001b[0m cv2\u001b[39m.\u001b[39mimshow(\u001b[39m\"\u001b[39m\u001b[39mresult_skeleton\u001b[39m\u001b[39m\"\u001b[39m, skeleton)\n\u001b[0;32m      <a href='vscode-notebook-cell://github/rizzberry-pi/Road-Detection/edgedetection.ipynb#X22sdnNjb2RlLXZmcw%3D%3D?line=3'>4</a>\u001b[0m cv2\u001b[39m.\u001b[39mwaitKey(\u001b[39m0\u001b[39m)\n\u001b[1;32m----> <a href='vscode-notebook-cell://github/rizzberry-pi/Road-Detection/edgedetection.ipynb#X22sdnNjb2RlLXZmcw%3D%3D?line=4'>5</a>\u001b[0m cv2\u001b[39m.\u001b[39;49mdestoyAllWindows()\n",
      "\u001b[1;31mAttributeError\u001b[0m: module 'cv2' has no attribute 'destoyAllWindows'"
     ]
    }
   ],
   "source": [
    "cv2.imwrite(\"skeleton.png\", skeleton)\n",
    "\n",
    "cv2.imshow(\"result_skeleton\", skeleton)\n",
    "cv2.waitKey(0)\n",
    "cv2.destoyAllWindows()"
   ]
  }
 ],
 "metadata": {
  "kernelspec": {
   "display_name": "Python 3",
   "language": "python",
   "name": "python3"
  },
  "language_info": {
   "codemirror_mode": {
    "name": "ipython",
    "version": 3
   },
   "file_extension": ".py",
   "mimetype": "text/x-python",
   "name": "python",
   "nbconvert_exporter": "python",
   "pygments_lexer": "ipython3",
   "version": "3.12.0"
  }
 },
 "nbformat": 4,
 "nbformat_minor": 2
}
