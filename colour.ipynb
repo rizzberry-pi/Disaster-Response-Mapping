{
 "cells": [
  {
   "cell_type": "code",
   "execution_count": 4,
   "metadata": {},
   "outputs": [],
   "source": [
    "# A script to rasterise a shapefile to the same projection & pixel resolution as a reference image.\n",
    "from osgeo import ogr, gdal\n",
    "import subprocess\n",
    "\n",
    "InputVector = 'test2.shp'\n",
    "OutputImage = 'Result.tif'\n",
    "\n",
    "RefImage = 'sgboleh.tif'\n",
    "\n",
    "gdalformat = 'GTiff'\n",
    "datatype = gdal.GDT_Byte\n",
    "burnVal = 1 #value for the output image pixels\n",
    "##########################################################\n",
    "# Get projection info from reference image\n",
    "Image = gdal.Open(RefImage, gdal.GA_ReadOnly)\n",
    "\n",
    "# Open Shapefile\n",
    "Shapefile = ogr.Open(InputVector)\n",
    "Shapefile_layer = Shapefile.GetLayer()\n",
    "\n",
    "# Rasterise\n",
    "print(\"Rasterising shapefile...\")\n",
    "Output = gdal.GetDriverByName(gdalformat).Create(OutputImage, Image.RasterXSize, Image.RasterYSize, 1, datatype, options=['COMPRESS=DEFLATE'])\n",
    "Output.SetProjection(Image.GetProjectionRef())\n",
    "Output.SetGeoTransform(Image.GetGeoTransform()) \n",
    "\n",
    "# Write data to band 1\n",
    "Band = Output.GetRasterBand(1)\n",
    "Band.SetNoDataValue(0)\n",
    "gdal.RasterizeLayer(Output, [1], Shapefile_layer, burn_values=[burnVal])\n",
    "\n",
    "# Close datasets\n",
    "Band = None\n",
    "Output = None\n",
    "Image = None\n",
    "Shapefile = None\n",
    "\n",
    "# Build image overviews\n",
    "subprocess.call(\"gdaladdo --config COMPRESS_OVERVIEW DEFLATE \"+OutputImage+\" 2 4 8 16 32 64\", shell=True)\n",
    "print(\"Done.\")"
   ]
  }
 ],
 "metadata": {
  "kernelspec": {
   "display_name": "Python 3",
   "language": "python",
   "name": "python3"
  },
  "language_info": {
   "codemirror_mode": {
    "name": "ipython",
    "version": 3
   },
   "file_extension": ".py",
   "mimetype": "text/x-python",
   "name": "python",
   "nbconvert_exporter": "python",
   "pygments_lexer": "ipython3",
   "version": "3.11.1"
  }
 },
 "nbformat": 4,
 "nbformat_minor": 2
}
